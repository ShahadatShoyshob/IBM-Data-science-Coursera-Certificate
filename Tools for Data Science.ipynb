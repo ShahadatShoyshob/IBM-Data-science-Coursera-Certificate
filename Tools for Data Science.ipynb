{
 "cells": [
  {
   "cell_type": "markdown",
   "id": "ac62f23f",
   "metadata": {},
   "source": [
    "# Data Science Final Project"
   ]
  },
  {
   "cell_type": "markdown",
   "id": "e7888ce9",
   "metadata": {},
   "source": [
    "## Introduction\n",
    "In this notebook, I will demonstrate various elements related to data science such as languages, libraries, and tools, along with a few practical examples."
   ]
  },
  {
   "cell_type": "markdown",
   "id": "702b5f45",
   "metadata": {},
   "source": [
    "## Data Science Languages\n",
    "- Python\n",
    "- R\n",
    "- SQL\n",
    "- Julia\n",
    "- Scala"
   ]
  },
  {
   "cell_type": "markdown",
   "id": "26ac151f",
   "metadata": {},
   "source": [
    "## Data Science Libraries\n",
    "- NumPy\n",
    "- Pandas\n",
    "- Scikit-learn\n",
    "- TensorFlow\n",
    "- Matplotlib"
   ]
  },
  {
   "cell_type": "markdown",
   "id": "0156e408",
   "metadata": {},
   "source": [
    "\n",
    "## Data Science Tools\n",
    "\n",
    "| Tool               | Description                         |\n",
    "|--------------------|-------------------------------------|\n",
    "| Jupyter Notebook   | Interactive computing environment   |\n",
    "| RStudio            | IDE for R programming               |\n",
    "| Apache Spark       | Cluster-computing system            |\n",
    "| TensorFlow         | Machine learning framework          |\n",
    "| GitHub             | Version control and collaboration   |\n"
   ]
  },
  {
   "cell_type": "markdown",
   "id": "006ca517",
   "metadata": {},
   "source": [
    "## Arithmetic Expression Examples\n",
    "Below are examples of basic arithmetic operations like multiplication and addition."
   ]
  },
  {
   "cell_type": "markdown",
   "id": "f2043ab4",
   "metadata": {},
   "source": [
    "(3 + 4): An arithmetic expression that evaluates to 7"
   ]
  },
  {
   "cell_type": "code",
   "execution_count": 1,
   "id": "f698a9f2",
   "metadata": {},
   "outputs": [
    {
     "data": {
      "text/plain": [
       "17"
      ]
     },
     "execution_count": 1,
     "metadata": {},
     "output_type": "execute_result"
    }
   ],
   "source": [
    "## Example of multiplication and addition\n",
    "result = (3 * 4) + 5\n",
    "result"
   ]
  },
  {
   "cell_type": "code",
   "execution_count": 2,
   "id": "8f5558b4",
   "metadata": {},
   "outputs": [
    {
     "data": {
      "text/plain": [
       "3.3333333333333335"
      ]
     },
     "execution_count": 2,
     "metadata": {},
     "output_type": "execute_result"
    }
   ],
   "source": [
    "## Convert minutes to hours\n",
    "minutes = 200\n",
    "hours = minutes / 60\n",
    "hours"
   ]
  },
  {
   "cell_type": "markdown",
   "id": "788c9281",
   "metadata": {},
   "source": [
    "\n",
    "## Objectives\n",
    "- Understand key data science languages and libraries.\n",
    "- Perform basic arithmetic operations using Python.\n",
    "- Learn how to convert time units.\n",
    "- Explore various data science tools.\n"
   ]
  },
  {
   "cell_type": "markdown",
   "id": "93dcccff",
   "metadata": {},
   "source": [
    "## Author\n",
    "Name: Shahadat Hossain Shoyshob"
   ]
  }
 ],
 "metadata": {
  "kernelspec": {
   "display_name": "base",
   "language": "python",
   "name": "python3"
  },
  "language_info": {
   "codemirror_mode": {
    "name": "ipython",
    "version": 3
   },
   "file_extension": ".py",
   "mimetype": "text/x-python",
   "name": "python",
   "nbconvert_exporter": "python",
   "pygments_lexer": "ipython3",
   "version": "3.9.12"
  }
 },
 "nbformat": 4,
 "nbformat_minor": 5
}
